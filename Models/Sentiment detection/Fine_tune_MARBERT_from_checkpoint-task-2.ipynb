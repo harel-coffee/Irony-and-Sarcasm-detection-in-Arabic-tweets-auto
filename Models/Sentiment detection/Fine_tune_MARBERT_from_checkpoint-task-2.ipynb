{
 "cells": [
  {
   "cell_type": "markdown",
   "metadata": {
    "id": "JUiwkRv-XAkW"
   },
   "source": [
    "# Download MARBERT checkpoint"
   ]
  },
  {
   "cell_type": "code",
   "execution_count": null,
   "metadata": {
    "colab": {
     "base_uri": "https://localhost:8080/"
    },
    "executionInfo": {
     "elapsed": 8186,
     "status": "ok",
     "timestamp": 1611604090621,
     "user": {
      "displayName": "Reem Elsayed",
      "photoUrl": "",
      "userId": "13751898496823085405"
     },
     "user_tz": -120
    },
    "id": "_8wBRd5zXAkX",
    "outputId": "71249d75-3a13-4f9a-b28b-e92112255d73"
   },
   "outputs": [],
   "source": [
    "!wget https://huggingface.co/UBC-NLP/MARBERT/resolve/main/MARBERT_pytorch_verison.tar.gz"
   ]
  },
  {
   "cell_type": "code",
   "execution_count": null,
   "metadata": {
    "colab": {
     "base_uri": "https://localhost:8080/"
    },
    "executionInfo": {
     "elapsed": 16166,
     "status": "ok",
     "timestamp": 1611604098611,
     "user": {
      "displayName": "Reem Elsayed",
      "photoUrl": "",
      "userId": "13751898496823085405"
     },
     "user_tz": -120
    },
    "id": "9FYvgJevXAkY",
    "outputId": "12210e0c-d715-4d09-fa25-4268c5d190aa"
   },
   "outputs": [],
   "source": [
    "!tar -xvf MARBERT_pytorch_verison.tar.gz"
   ]
  },
  {
   "cell_type": "code",
   "execution_count": null,
   "metadata": {
    "colab": {
     "base_uri": "https://localhost:8080/"
    },
    "executionInfo": {
     "elapsed": 1484,
     "status": "ok",
     "timestamp": 1611604100108,
     "user": {
      "displayName": "Reem Elsayed",
      "photoUrl": "",
      "userId": "13751898496823085405"
     },
     "user_tz": -120
    },
    "id": "sUeiBs3tXAkZ",
    "outputId": "098252fa-3a27-4208-b39e-9b98f4742c50"
   },
   "outputs": [],
   "source": [
    "!wget https://raw.githubusercontent.com/UBC-NLP/marbert/main/examples/UBC_AJGT_final_shuffled_train.tsv\n",
    "!wget https://raw.githubusercontent.com/UBC-NLP/marbert/main/examples/UBC_AJGT_final_shuffled_test.tsv"
   ]
  },
  {
   "cell_type": "code",
   "execution_count": null,
   "metadata": {
    "id": "yXM2ZsS1XAka"
   },
   "outputs": [],
   "source": [
    "!mkdir -p AJGT\n",
    "!mv UBC_AJGT_final_shuffled_train.tsv ./AJGT/UBC_AJGT_final_shuffled_train.tsv\n",
    "!mv UBC_AJGT_final_shuffled_test.tsv ./AJGT/UBC_AJGT_final_shuffled_test.tsv"
   ]
  },
  {
   "cell_type": "code",
   "execution_count": null,
   "metadata": {
    "colab": {
     "base_uri": "https://localhost:8080/"
    },
    "executionInfo": {
     "elapsed": 11090,
     "status": "ok",
     "timestamp": 1611604111489,
     "user": {
      "displayName": "Reem Elsayed",
      "photoUrl": "",
      "userId": "13751898496823085405"
     },
     "user_tz": -120
    },
    "id": "C2pkLcyfXAka",
    "outputId": "e841ba17-3677-4156-ad1b-9851692dc243"
   },
   "outputs": [],
   "source": [
    "!pip install GPUtil pytorch_pretrained_bert transformers"
   ]
  },
  {
   "cell_type": "code",
   "execution_count": null,
   "metadata": {
    "colab": {
     "base_uri": "https://localhost:8080/"
    },
    "executionInfo": {
     "elapsed": 27898,
     "status": "ok",
     "timestamp": 1611604128303,
     "user": {
      "displayName": "Reem Elsayed",
      "photoUrl": "",
      "userId": "13751898496823085405"
     },
     "user_tz": -120
    },
    "id": "xgdLbPEQma7k",
    "outputId": "51c93f58-9947-4afa-d83b-10309de3b528"
   },
   "outputs": [],
   "source": [
    "from google.colab import drive\n",
    "drive.mount('/content/drive')\n",
    "import os\n",
    "os.chdir(\"/content/drive/\")"
   ]
  },
  {
   "cell_type": "markdown",
   "metadata": {
    "id": "6xBm7opGXAkb"
   },
   "source": [
    "# Fine-tuning code"
   ]
  },
  {
   "cell_type": "code",
   "execution_count": null,
   "metadata": {
    "id": "9oOXwzeXXAkb"
   },
   "outputs": [],
   "source": [
    "# (1)load libraries \n",
    "import json, sys, regex\n",
    "import torch\n",
    "import GPUtil\n",
    "import torch.nn as nn\n",
    "from torch.utils.data import TensorDataset, DataLoader, RandomSampler, SequentialSampler\n",
    "from keras.preprocessing.sequence import pad_sequences\n",
    "from sklearn.model_selection import train_test_split\n",
    "from pytorch_pretrained_bert import BertTokenizer, BertConfig, BertAdam, BertForSequenceClassification\n",
    "from tqdm import tqdm, trange\n",
    "import pandas as pd\n",
    "import os\n",
    "import numpy as np\n",
    "from sklearn.metrics import accuracy_score, f1_score, recall_score, precision_score, classification_report, confusion_matrix\n",
    "##----------------------------------------------------\n",
    "from transformers import *\n",
    "from transformers import XLMRobertaConfig\n",
    "from transformers import XLMRobertaModel\n",
    "from transformers import AutoTokenizer, AutoModelWithLMHead\n",
    "from transformers import XLMRobertaForSequenceClassification, XLMRobertaTokenizer, XLMRobertaModel\n",
    "from tokenizers import Tokenizer, models, pre_tokenizers, decoders, processors\n",
    "from transformers import AdamW, get_linear_schedule_with_warmup\n",
    "from transformers import AutoTokenizer, AutoModel\n"
   ]
  },
  {
   "cell_type": "code",
   "execution_count": null,
   "metadata": {
    "id": "QnNrYLjBuLFN"
   },
   "outputs": [],
   "source": [
    "import re"
   ]
  },
  {
   "cell_type": "code",
   "execution_count": null,
   "metadata": {
    "colab": {
     "base_uri": "https://localhost:8080/"
    },
    "executionInfo": {
     "elapsed": 1115,
     "status": "ok",
     "timestamp": 1611604136980,
     "user": {
      "displayName": "Reem Elsayed",
      "photoUrl": "",
      "userId": "13751898496823085405"
     },
     "user_tz": -120
    },
    "id": "GQWKMrXPXAkc",
    "outputId": "3845aac8-aee2-4857-9dab-f25a1c1eba8d"
   },
   "outputs": [],
   "source": [
    "device = torch.device(\"cuda\" if torch.cuda.is_available() else \"cpu\")\n",
    "print (\"your device \", device)"
   ]
  },
  {
   "cell_type": "code",
   "execution_count": null,
   "metadata": {
    "id": "KKujHwr5XAkd"
   },
   "outputs": [],
   "source": [
    "def create_label2ind_file(file, label_col):\n",
    "    labels_json = {}\n",
    "\n",
    "    # load train_dev_test file\n",
    "\n",
    "    df = pd.read_csv(file)\n",
    "    df.loc[df.sentiment==\"NEU\",label_col]=\"NEU\"\n",
    "    df.loc[df.sentiment==\"NEG\",label_col]=\"NEG\"\n",
    "    df.loc[df.sentiment==\"POS\",label_col]=\"POS\"\n",
    "    df.loc[df.sentiment==\"neutral\",label_col]=\"NEU\"\n",
    "    df.loc[df.sentiment==\"negative\",label_col]=\"NEG\"\n",
    "    df.loc[df.sentiment==\"positive\",label_col]=\"POS\"\n",
    "    df.head(5)\n",
    "\n",
    "    # get labels and sort it A-Z\n",
    "\n",
    "    labels = df[label_col].unique()\n",
    "    labels.sort()\n",
    "\n",
    "    # convert labels to indexes\n",
    "\n",
    "    for idx in range(0, len(labels)):\n",
    "        labels_json[labels[idx]] = idx\n",
    "    with open(label2idx_file, 'w') as json_file:\n",
    "        json.dump(labels_json, json_file)"
   ]
  },
  {
   "cell_type": "code",
   "execution_count": null,
   "metadata": {
    "id": "szhbYX1dnbx0"
   },
   "outputs": [],
   "source": [
    "def clean_text(text):  \n",
    "    # ref: https://github.com/bakrianoo/aravec\n",
    "    search = [\"أ\",\"إ\",\"آ\",\"ة\",\"_\",\"-\",\"/\",\".\",\"،\",\" و \",\" يا \",'\"',\"ـ\",\"'\",\"ى\",\n",
    "              \"\\\\\",'\\n', '\\t','&quot;','?','؟','!']\n",
    "    replace = [\"ا\",\"ا\",\"ا\",\"ه\",\" \",\" \",\"\",\"\",\"\",\" و\",\" يا\",\n",
    "               \"\",\"\",\"\",\"ي\",\"\",' ', ' ',' ',' ? ',' ؟ ', ' ! ']\n",
    "    \n",
    "    tashkeel = re.compile(r'[\\u0617-\\u061A\\u064B-\\u0652]')\n",
    "    text = re.sub(tashkeel,\"\", text)\n",
    "    \n",
    "    # longation = re.compile(r'(.)\\1+')\n",
    "    # subst = r\"\\1\\1\"\n",
    "    # text = re.sub(longation, subst, text)\n",
    "    \n",
    "    text = re.sub(r\"[^\\w\\s]\", '', text)\n",
    "    text = re.sub(r\"[a-zA-Z]\", '', text)\n",
    "    text = re.sub(r\"\\d+\", ' ', text)\n",
    "    text = re.sub(r\"\\n+\", ' ', text)\n",
    "    text = re.sub(r\"\\t+\", ' ', text)\n",
    "    text = re.sub(r\"\\r+\", ' ', text)\n",
    "    text = re.sub(r\"\\s+\", ' ', text)\n",
    "    text = text.replace('وو', 'و')\n",
    "    text = text.replace('يي', 'ي')\n",
    "    text = text.replace('اا', 'ا')\n",
    "    \n",
    "    for i in range(0, len(search)):\n",
    "        text = text.replace(search[i], replace[i])\n",
    "    \n",
    "    text = text.strip()\n",
    "    \n",
    "    return text"
   ]
  },
  {
   "cell_type": "code",
   "execution_count": null,
   "metadata": {
    "id": "cSVSvJYT7kBy"
   },
   "outputs": [],
   "source": [
    "def remove_urls(text):\n",
    "    url_pattern = re.compile(r'https?://\\S+|www\\.\\S+')\n",
    "    return url_pattern.sub(r'', text)"
   ]
  },
  {
   "cell_type": "code",
   "execution_count": null,
   "metadata": {
    "id": "TNZxr8m6XAkd"
   },
   "outputs": [],
   "source": [
    "#!/usr/bin/python\n",
    "# -*- coding: utf-8 -*-\n",
    "\n",
    "\n",
    "def data_prepare_BERT(\n",
    "    file_path,\n",
    "    lab2ind,\n",
    "    tokenizer,\n",
    "    content_col,\n",
    "    label_col,\n",
    "    MAX_LEN,\n",
    "    ):\n",
    "\n",
    "    # Use pandas to load dataset\n",
    "\n",
    "    df = pd.read_csv(file_path)\n",
    "\n",
    "    df = df[df[content_col].notnull()]\n",
    "    df = df[df[label_col].notnull()]\n",
    "    df[content_col] = df.tweet.apply(clean_text)\n",
    "    df[content_col] = df.tweet.apply(remove_urls)\n",
    "    print ('Data size ', df.shape)\n",
    "\n",
    "    # Create sentence and label lists\n",
    "\n",
    "    sentences = df[content_col].values\n",
    "    sentences = ['[CLS] ' + sentence + ' [SEP]' for sentence in\n",
    "                 sentences]\n",
    "    print ('The first sentence:')\n",
    "    print (sentences[0])\n",
    "\n",
    "    # Create sentence and label lists\n",
    "\n",
    "    labels = df[label_col].values\n",
    "\n",
    "   \n",
    "\n",
    "    labels = [lab2ind[i] for i in labels]\n",
    "\n",
    "    # Import the BERT tokenizer, used to convert our text into tokens that correspond to BERT's vocabulary.\n",
    "\n",
    "    tokenized_texts = [tokenizer.tokenize(sent) for sent in sentences]\n",
    "    print ('Tokenize the first sentence:')\n",
    "    print (tokenized_texts[0])\n",
    "\n",
    "    \n",
    "    # Use the BERT tokenizer to convert the tokens to their index numbers in the BERT vocabulary\n",
    "\n",
    "    input_ids = [tokenizer.convert_tokens_to_ids(x) for x in\n",
    "                 tokenized_texts]\n",
    "    print ('Index numbers of the first sentence:')\n",
    "    print (input_ids[0])\n",
    "\n",
    "    # Pad our input seqeunce to the fixed length (i.e., max_len) with index of [PAD] token\n",
    "    # ~ input_ids = pad_sequences(input_ids, maxlen=MAX_LEN, dtype=\"long\", truncating=\"post\", padding=\"post\")\n",
    "\n",
    "    pad_ind = tokenizer.convert_tokens_to_ids(['[PAD]'])[0]\n",
    "    input_ids = pad_sequences(\n",
    "        input_ids,\n",
    "        maxlen=MAX_LEN + 2,\n",
    "        dtype='long',\n",
    "        truncating='post',\n",
    "        padding='post',\n",
    "        value=pad_ind,\n",
    "        )\n",
    "    print ('Index numbers of the first sentence after padding:\\n',\n",
    "           input_ids[0])\n",
    "\n",
    "    # Create attention masks\n",
    "\n",
    "    attention_masks = []\n",
    "\n",
    "    # Create a mask of 1s for each token followed by 0s for padding\n",
    "\n",
    "    for seq in input_ids:\n",
    "        seq_mask = [float(i > 0) for i in seq]\n",
    "        attention_masks.append(seq_mask)\n",
    "\n",
    "    # Convert all of our data into torch tensors, the required datatype for our model\n",
    "\n",
    "    inputs = torch.tensor(input_ids)\n",
    "    labels = torch.tensor(labels)\n",
    "    masks = torch.tensor(attention_masks)\n",
    "    return inputs, labels, masks\n"
   ]
  },
  {
   "cell_type": "code",
   "execution_count": null,
   "metadata": {
    "id": "_MfBYxRhAqK9"
   },
   "outputs": [],
   "source": [
    "#!/usr/bin/python\n",
    "# -*- coding: utf-8 -*-\n",
    "\n",
    "\n",
    "def data_prepare_BERT_test(\n",
    "    file_path,\n",
    "    lab2ind,\n",
    "    tokenizer,\n",
    "    content_col,\n",
    "    \n",
    "    MAX_LEN,\n",
    "    ):\n",
    "\n",
    "    # Use pandas to load dataset\n",
    "\n",
    "    df = pd.read_csv(file_path)\n",
    "\n",
    "    df = df[df[content_col].notnull()]\n",
    "    df[content_col] = df.tweet.apply(clean_text)\n",
    "\n",
    "    print ('Data size ', df.shape)\n",
    "\n",
    "    # Create sentence and label lists\n",
    "\n",
    "    sentences = df[content_col].values\n",
    "    sentences = ['[CLS] ' + sentence + ' [SEP]' for sentence in\n",
    "                 sentences]\n",
    "    print ('The first sentence:')\n",
    "    print (sentences[0])\n",
    "\n",
    "    # Create sentence and label lists\n",
    "\n",
    "   \n",
    "\n",
    "    # Import the BERT tokenizer, used to convert our text into tokens that correspond to BERT's vocabulary.\n",
    "\n",
    "    tokenized_texts = [tokenizer.tokenize(sent) for sent in sentences]\n",
    "    print ('Tokenize the first sentence:')\n",
    "    print (tokenized_texts[0])\n",
    "\n",
    "    # print(\"Label is \", labels[0])\n",
    "    # Use the BERT tokenizer to convert the tokens to their index numbers in the BERT vocabulary\n",
    "\n",
    "    input_ids = [tokenizer.convert_tokens_to_ids(x) for x in\n",
    "                 tokenized_texts]\n",
    "    print ('Index numbers of the first sentence:')\n",
    "    print (input_ids[0])\n",
    "\n",
    "    # Pad our input seqeunce to the fixed length (i.e., max_len) with index of [PAD] token\n",
    "    # ~ input_ids = pad_sequences(input_ids, maxlen=MAX_LEN, dtype=\"long\", truncating=\"post\", padding=\"post\")\n",
    "\n",
    "    pad_ind = tokenizer.convert_tokens_to_ids(['[PAD]'])[0]\n",
    "    input_ids = pad_sequences(\n",
    "        input_ids,\n",
    "        maxlen=MAX_LEN + 2,\n",
    "        dtype='long',\n",
    "        truncating='post',\n",
    "        padding='post',\n",
    "        value=pad_ind,\n",
    "        )\n",
    "    print ('Index numbers of the first sentence after padding:\\n',\n",
    "           input_ids[0])\n",
    "\n",
    "    # Create attention masks\n",
    "\n",
    "    attention_masks = []\n",
    "\n",
    "    # Create a mask of 1s for each token followed by 0s for padding\n",
    "\n",
    "    for seq in input_ids:\n",
    "        seq_mask = [float(i > 0) for i in seq]\n",
    "        attention_masks.append(seq_mask)\n",
    "\n",
    "    # Convert all of our data into torch tensors, the required datatype for our model\n",
    "\n",
    "    inputs = torch.tensor(input_ids)\n",
    "    masks = torch.tensor(attention_masks)\n",
    "    return inputs,  masks\n"
   ]
  },
  {
   "cell_type": "code",
   "execution_count": null,
   "metadata": {
    "id": "gdPCPv8VXAke"
   },
   "outputs": [],
   "source": [
    "# Function to calculate the accuracy of our predictions vs labels\n",
    "# def flat_accuracy(preds, labels):\n",
    "#\t  pred_flat = np.argmax(preds, axis=1).flatten()\n",
    "#\t  labels_flat = labels.flatten()\n",
    "#\t  return np.sum(pred_flat == labels_flat) / len(labels_flat)\n",
    "def flat_pred(preds, labels):\n",
    "\tpred_flat = np.argmax(preds, axis=1).flatten()\n",
    "\tlabels_flat = labels.flatten()\n",
    "\treturn pred_flat.tolist(), labels_flat.tolist()"
   ]
  },
  {
   "cell_type": "code",
   "execution_count": null,
   "metadata": {
    "id": "5vyvc8JoXAke"
   },
   "outputs": [],
   "source": [
    "\n",
    "def train(model, iterator, optimizer, scheduler, criterion):\n",
    "\t\n",
    "\tmodel.train()\n",
    "\tepoch_loss = 0\n",
    "\tfor i, batch in enumerate(iterator):\n",
    "\t\t# Add batch to GPU\n",
    "\t\tbatch = tuple(t.to(device) for t in batch)\n",
    "\t\t# Unpack the inputs from our dataloader\n",
    "\t\tinput_ids, input_mask, labels = batch\n",
    "\t\toutputs = model(input_ids, input_mask, labels=labels)\n",
    "\t\tloss, logits = outputs[:2]\n",
    "\t\t# delete used variables to free GPU memory\n",
    "\t\tdel batch, input_ids, input_mask, labels\n",
    "\t\toptimizer.zero_grad()\n",
    "\t\tif torch.cuda.device_count() == 1:\n",
    "\t\t\tloss.backward()\n",
    "\t\t\tepoch_loss += loss.cpu().item()\n",
    "\t\telse:\n",
    "\t\t\tloss.sum().backward()\n",
    "\t\t\tepoch_loss += loss.sum().cpu().item()\n",
    "\t\toptimizer.step()\n",
    "\t\ttorch.nn.utils.clip_grad_norm_(model.parameters(), max_grad_norm)  # Gradient clipping is not in AdamW anymore\n",
    "\t\t# optimizer.step()\n",
    "\t\tscheduler.step()\n",
    "\t# free GPU memory\n",
    "\tif device == 'cuda':\n",
    "\t\ttorch.cuda.empty_cache()\n",
    "\treturn epoch_loss / len(iterator)"
   ]
  },
  {
   "cell_type": "code",
   "execution_count": null,
   "metadata": {
    "id": "Hjwa6a3bXAkf"
   },
   "outputs": [],
   "source": [
    "\n",
    "def evaluate(model, iterator, criterion):\n",
    "\tmodel.eval()\n",
    "\tepoch_loss = 0\n",
    "\tall_pred=[]\n",
    "\tall_label = []\n",
    "\twith torch.no_grad():\n",
    "\t\tfor i, batch in enumerate(iterator):\n",
    "\t\t\t# Add batch to GPU\n",
    "\t\t\tbatch = tuple(t.to(device) for t in batch)\n",
    "\t\t\t# Unpack the inputs from our dataloader\n",
    "\t\t\tinput_ids, input_mask, labels = batch\n",
    "\t\t\toutputs = model(input_ids, input_mask, labels=labels)\n",
    "\t\t\tloss, logits = outputs[:2]\n",
    "\t\t\t# delete used variables to free GPU memory\n",
    "\t\t\tdel batch, input_ids, input_mask\n",
    "\t\t\tif torch.cuda.device_count() == 1:\n",
    "\t\t\t\tepoch_loss += loss.cpu().item()\n",
    "\t\t\telse:\n",
    "\t\t\t\tepoch_loss += loss.sum().cpu().item()\n",
    "\t\t\t# identify the predicted class for each example in the batch\n",
    "\t\t\tprobabilities, predicted = torch.max(logits.cpu().data, 1)\n",
    "\t\t\t# put all the true labels and predictions to two lists\n",
    "\t\t\tall_pred.extend(predicted)\n",
    "\t\t\tall_label.extend(labels.cpu())\n",
    "\taccuracy = accuracy_score(all_label, all_pred)\n",
    "\tf1score = f1_score(all_label, all_pred, average='macro') \n",
    "\trecall = recall_score(all_label, all_pred, average='macro')\n",
    "\tprecision = precision_score(all_label, all_pred, average='macro')\n",
    "\treport = classification_report(all_label, all_pred)\n",
    "\treturn (epoch_loss / len(iterator)), accuracy, f1score, recall, precision\n",
    "\n"
   ]
  },
  {
   "cell_type": "code",
   "execution_count": null,
   "metadata": {
    "id": "5nWmg6P-XAkf"
   },
   "outputs": [],
   "source": [
    "\n",
    "def fine_tuning(config):\n",
    "\t#---------------------------------------\n",
    "\tprint (\"[INFO] step (1) load train_test config file\")\n",
    "\t# config_file = open(config_file, 'r', encoding=\"utf8\")\n",
    "\t# config = json.load(config_file)\n",
    "\ttask_name = config[\"task_name\"]\n",
    "\tcontent_col = config[\"content_col\"]\n",
    "\tlabel_col = config[\"label_col\"]\n",
    "\ttrain_file = config[\"data_dir\"]+config[\"train_file\"]\n",
    "\tdev_file = config[\"data_dir\"]+config[\"dev_file\"]\n",
    "\tsortby = config[\"sortby\"]\n",
    "\tmax_seq_length= int(config[\"max_seq_length\"])\n",
    "\tbatch_size = int(config[\"batch_size\"])\n",
    "\tlr_var = float(config[\"lr\"])\n",
    "\tmodel_path = config['pretrained_model_path']\n",
    "\tnum_epochs = config['epochs'] # Number of training epochs (authors recommend between 2 and 4)\n",
    "\tglobal label2idx_file\n",
    "\tlabel2idx_file = config[\"data_dir\"]+config[\"task_name\"]+\"_labels-dict.json\"\n",
    "\t#-------------------------------------------------------\n",
    "\tprint (\"[INFO] step (2) convert labels2index\")\n",
    "\tcreate_label2ind_file(train_file, label_col)\n",
    "\tprint (label2idx_file)\n",
    "\t#---------------------------------------------------------\n",
    "\tprint (\"[INFO] step (3) check checkpoit directory and report file\")\n",
    "\tckpt_dir = config[\"data_dir\"]+task_name+\"_bert_ckpt/\"\n",
    "\treport = ckpt_dir+task_name+\"_report.tsv\"\n",
    "\tsorted_report = ckpt_dir+task_name+\"_report_sorted.tsv\"\n",
    "\tif not os.path.exists(ckpt_dir):\n",
    "\t\tos.mkdir(ckpt_dir)\n",
    "\t#-------------------------------------------------------\n",
    "\tprint (\"[INFO] step (4) load label to number dictionary\")\n",
    "\tlab2ind = json.load(open(label2idx_file))\n",
    "\tprint (\"[INFO] train_file\", train_file)\n",
    "\tprint (\"[INFO] dev_file\", dev_file)\n",
    "\tprint (\"[INFO] num_epochs\", num_epochs)\n",
    "\tprint (\"[INFO] model_path\", model_path)\n",
    "\tprint (\"max_seq_length\", max_seq_length, \"batch_size\", batch_size)\n",
    "\t#-------------------------------------------------------\n",
    "\tprint (\"[INFO] step (5) Use defined funtion to extract tokanize data\")\n",
    "\t# tokenizer from pre-trained BERT model\n",
    "\tprint (\"loading BERT setting\")\n",
    "\ttokenizer = BertTokenizer.from_pretrained(model_path)\n",
    "\ttrain_inputs, train_labels, train_masks = data_prepare_BERT(train_file, lab2ind, tokenizer,content_col, label_col, max_seq_length)\n",
    "\tvalidation_inputs, validation_labels, validation_masks = data_prepare_BERT(dev_file, lab2ind, tokenizer, content_col, label_col,max_seq_length)\n",
    "\t# Load BertForSequenceClassification, the pretrained BERT model with a single linear classification layer on top.\n",
    "\tmodel = BertForSequenceClassification.from_pretrained(model_path, num_labels=len(lab2ind))\n",
    "\t#--------------------------------------\n",
    "\tprint (\"[INFO] step (6) Create an iterator of data with torch DataLoader.\")\n",
    "#\t\t  This helps save on memory during training because, unlike a for loop,\\\n",
    "#\t\t  with an iterator the entire dataset does not need to be loaded into memory\")\n",
    "\ttrain_data = TensorDataset(train_inputs, train_masks, train_labels)\n",
    "\ttrain_dataloader = DataLoader(train_data, batch_size=batch_size)\n",
    "\t#---------------------------\n",
    "\tvalidation_data = TensorDataset(validation_inputs, validation_masks, validation_labels)\n",
    "\tvalidation_dataloader = DataLoader(validation_data, batch_size=batch_size)\n",
    "\t#------------------------------------------\n",
    "\tprint (\"[INFO] step (7) run with parallel GPUs\")\n",
    "\tif torch.cuda.is_available():\n",
    "\t\tif torch.cuda.device_count() == 1:\n",
    "\t\t\tprint(\"Run\", \"with one GPU\")\n",
    "\t\t\tmodel = model.to(device)\n",
    "\t\telse:\n",
    "\t\t\tn_gpu = torch.cuda.device_count()\n",
    "\t\t\tprint(\"Run\", \"with\", n_gpu, \"GPUs with max 4 GPUs\")\n",
    "\t\t\tdevice_ids = GPUtil.getAvailable(limit = 4)\n",
    "\t\t\ttorch.backends.cudnn.benchmark = True\n",
    "\t\t\tmodel = model.to(device)\n",
    "\t\t\tmodel = nn.DataParallel(model, device_ids=device_ids)\n",
    "\telse:\n",
    "\t\tprint(\"Run\", \"with CPU\")\n",
    "\t\tmodel = model\n",
    "\t#---------------------------------------------------\n",
    "\tprint (\"[INFO] step (8) set Parameters, schedules, and loss function\")\n",
    "\tglobal max_grad_norm\n",
    "\tmax_grad_norm = 1.0\n",
    "\twarmup_proportion = 0.1\n",
    "\tnum_training_steps\t= len(train_dataloader) * num_epochs\n",
    "\tnum_warmup_steps = num_training_steps * warmup_proportion\n",
    "\t### In Transformers, optimizer and schedules are instantiated like this:\n",
    "\t# Note: AdamW is a class from the huggingface library\n",
    "\t# the 'W' stands for 'Weight Decay\"\n",
    "\toptimizer = AdamW(model.parameters(), lr=lr_var, correct_bias=False)\n",
    "\t# schedules\n",
    "\tscheduler = get_linear_schedule_with_warmup(optimizer, num_warmup_steps=num_warmup_steps, num_training_steps=num_training_steps)  # PyTorch scheduler\n",
    "\t# We use nn.CrossEntropyLoss() as our loss function. \n",
    "\tcriterion = nn.CrossEntropyLoss()\n",
    "\t#---------------------------------------------------\n",
    "\tprint (\"[INFO] step (9) start fine_tuning\")\n",
    "\tfor epoch in trange(num_epochs, desc=\"Epoch\"):\n",
    "\t\ttrain_loss = train(model, train_dataloader, optimizer, scheduler, criterion)\t  \n",
    "\t\tval_loss, val_acc, val_f1, val_recall, val_precision = evaluate(model, validation_dataloader, criterion)\n",
    "# \t\tprint (train_loss, val_acc)\n",
    "\t\t# Create checkpoint at end of each epoch\n",
    "\t\tif not os.path.exists(ckpt_dir + 'model_' + str(int(epoch + 1)) + '/'): os.mkdir(ckpt_dir + 'model_' + str(int(epoch + 1)) + '/')\n",
    "\t\tmodel.save_pretrained(ckpt_dir+ 'model_' + str(int(epoch + 1)) + '/')\n",
    "\t\tepoch_eval_results = {\"epoch_num\":int(epoch + 1),\"train_loss\":train_loss,\n",
    "\t\t\t\t\t  \"val_acc\":val_acc, \"val_recall\":val_recall, \"val_precision\":val_precision, \"val_f1\":val_f1,\"lr\":lr_var }\n",
    "\t\twith open(report,\"a\") as fOut:\n",
    "\t\t\tfOut.write(json.dumps(epoch_eval_results)+\"\\n\")\n",
    "\t\t\tfOut.flush()\n",
    "\t\t#------------------------------------\n",
    "\t\treport_df = pd.read_json(report, orient='records', lines=True)\n",
    "\t\treport_df.sort_values(by=[sortby],ascending=False, inplace=True)\n",
    "\t\treport_df.to_csv(sorted_report,sep=\"\\t\",index=False)\n",
    "\treturn report_df"
   ]
  },
  {
   "cell_type": "markdown",
   "metadata": {
    "id": "xDnDyOFHiZvk"
   },
   "source": [
    "# Run fine-tuning for 5 epochs"
   ]
  },
  {
   "cell_type": "code",
   "execution_count": null,
   "metadata": {
    "id": "Ol6LaSAAXAki"
   },
   "outputs": [],
   "source": [
    "\n",
    "config={\"task_name\": \"Ironic_MARBERT_Task_2\", #output directory name\n",
    "             \"data_dir\": \"\", #data directory\n",
    "             \"train_file\": \"\", #train file path\n",
    "             \"dev_file\": \"\", #dev file path or test file path\n",
    "             \"pretrained_model_path\": '', #MARBERT checkpoint path\n",
    "             \"epochs\": 5, #number of epochs\n",
    "             \"content_col\": \"tweet\", #text column\n",
    "             \"label_col\": \"sentiment\", #label column\n",
    "             \"lr\": 2e-06, #learning rate\n",
    "              \"max_seq_length\": 300, #max sequance length\n",
    "              \"batch_size\": 32, #batch shize\n",
    "              \"sortby\":\"val_acc\"} #sort results based on val_acc or val_f1\n"
   ]
  },
  {
   "cell_type": "code",
   "execution_count": null,
   "metadata": {
    "colab": {
     "base_uri": "https://localhost:8080/"
    },
    "executionInfo": {
     "elapsed": 2042230,
     "status": "ok",
     "timestamp": 1610814286581,
     "user": {
      "displayName": "Reem Elsayed",
      "photoUrl": "",
      "userId": "13751898496823085405"
     },
     "user_tz": -120
    },
    "id": "jq9kOFoaXAkj",
    "outputId": "ba463320-2188-4377-fa4c-212985cd9388"
   },
   "outputs": [],
   "source": [
    "report_df = fine_tuning(config)"
   ]
  },
  {
   "cell_type": "code",
   "execution_count": null,
   "metadata": {
    "colab": {
     "base_uri": "https://localhost:8080/"
    },
    "executionInfo": {
     "elapsed": 2038132,
     "status": "ok",
     "timestamp": 1610814286583,
     "user": {
      "displayName": "Reem Elsayed",
      "photoUrl": "",
      "userId": "13751898496823085405"
     },
     "user_tz": -120
    },
    "id": "5V9ZOdVNXAkk",
    "outputId": "db838518-aa03-42c7-cacd-a4bf5f43593b"
   },
   "outputs": [],
   "source": [
    "report_df.head(5)"
   ]
  },
  {
   "cell_type": "code",
   "execution_count": null,
   "metadata": {},
   "outputs": [],
   "source": [
    "def predict_extrnal_test_set():\n",
    "    lab2ind = json.load(open()) # load label2index file generated and stored in traiing pahse\n",
    "    tokenizer = BertTokenizer.from_pretrained('')#load bert tokenizer\n",
    "    max_seq_length=300\n",
    "    validation_inputs,  validation_masks = data_prepare_BERT_test('', lab2ind, tokenizer, 'tweet', max_seq_length)\n",
    "    # Load BertForSequenceClassification, the pretrained BERT model with a single linear classification layer on top.\n",
    "    model = BertForSequenceClassification.from_pretrained('', num_labels=len(lab2ind))\n",
    "    validation_data = TensorDataset(validation_inputs, validation_masks)\n",
    "    validation_dataloader = DataLoader(validation_data, batch_size=32)\n",
    "    ################ Evaluation and prediction#####################\n",
    "    if torch.cuda.is_available():\n",
    "\t\tif torch.cuda.device_count() == 1:\n",
    "\t\t\tprint(\"Run\", \"with one GPU\")\n",
    "\t\t\tmodel = model.to(device)\n",
    "\t\telse:\n",
    "\t\t\tn_gpu = torch.cuda.device_count()\n",
    "\t\t\tprint(\"Run\", \"with\", n_gpu, \"GPUs with max 4 GPUs\")\n",
    "\t\t\tdevice_ids = GPUtil.getAvailable(limit = 4)\n",
    "\t\t\ttorch.backends.cudnn.benchmark = True\n",
    "\t\t\tmodel = model.to(device)\n",
    "\t\t\tmodel = nn.DataParallel(model, device_ids=device_ids)\n",
    "    else:\n",
    "      print(\"Run\", \"with CPU\")\n",
    "      model = model\n",
    "    criterion = nn.CrossEntropyLoss()\n",
    "    model.eval()\n",
    "    all_pred=[]\n",
    "    all_label = []\n",
    "    with torch.no_grad():\n",
    "      for i, batch in enumerate(validation_dataloader):    \n",
    "        batch = tuple(t.to(device) for t in batch)\n",
    "        # Unpack the inputs from our dataloader\n",
    "        input_ids, input_mask = batch\n",
    "        outputs = model(input_ids, input_mask)\n",
    "        logits = outputs[:2]\n",
    "        # delete used variables to free GPU memory\n",
    "        del batch, input_ids, input_mask   \n",
    "        # identify the predicted class for each example in the batch\n",
    "        probabilities, predicted = torch.max(outputs[0], 1)\n",
    "        # put all the true labels and predictions to two lists\n",
    "        all_pred.extend(predicted)\n",
    "    return all_pred\n",
    "    "
   ]
  },
  {
   "cell_type": "code",
   "execution_count": null,
   "metadata": {
    "id": "DDMxAnC2Aa6B"
   },
   "outputs": [],
   "source": [
    "all_pred = predict_extrnal_test_set()"
   ]
  },
  {
   "cell_type": "code",
   "execution_count": null,
   "metadata": {},
   "outputs": [],
   "source": [
    "def write_output_file(all_pred):\n",
    "    f = open(\"\", \"w\")\n",
    "    for pred in all_pred:\n",
    " \n",
    "      if pred==1:\n",
    "        f.write(\"NEU\\n\")\n",
    "      elif pred==0:\n",
    "        f.write(\"NEG\\n\")\n",
    "      else:\n",
    "        f.write(\"POS\\n\")\n",
    "    f.close()"
   ]
  },
  {
   "cell_type": "code",
   "execution_count": null,
   "metadata": {
    "id": "hRezIh9oAkAL"
   },
   "outputs": [],
   "source": [
    "write_output_file(all_pred)\n",
    "\n",
    "\n"
   ]
  }
 ],
 "metadata": {
  "accelerator": "GPU",
  "colab": {
   "collapsed_sections": [],
   "name": "Fine_tune_MARBERT_from_checkpoint-task-2.ipynb",
   "provenance": [],
   "toc_visible": true
  },
  "kernelspec": {
   "display_name": "Python 3",
   "language": "python",
   "name": "python3"
  },
  "language_info": {
   "codemirror_mode": {
    "name": "ipython",
    "version": 3
   },
   "file_extension": ".py",
   "mimetype": "text/x-python",
   "name": "python",
   "nbconvert_exporter": "python",
   "pygments_lexer": "ipython3",
   "version": "3.7.6"
  }
 },
 "nbformat": 4,
 "nbformat_minor": 1
}
