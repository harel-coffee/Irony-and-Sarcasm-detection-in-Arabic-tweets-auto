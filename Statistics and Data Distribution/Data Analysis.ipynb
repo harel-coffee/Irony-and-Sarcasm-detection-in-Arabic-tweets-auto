{
 "cells": [
  {
   "cell_type": "code",
   "execution_count": null,
   "metadata": {
    "id": "gt1_P6h9qNaa"
   },
   "outputs": [],
   "source": [
    "import pandas as pd\n",
    "import numpy as np\n",
    "from sklearn.svm import LinearSVC\n",
    "from nltk.tokenize import TreebankWordTokenizer\n",
    "from sklearn.feature_extraction.text import TfidfVectorizer, CountVectorizer\n",
    "from sklearn.pipeline import Pipeline, FeatureUnion\n",
    "from sklearn.model_selection import cross_validate\n",
    "from sklearn import metrics\n",
    "from sklearn.feature_selection import VarianceThreshold\n",
    "from sklearn import preprocessing\n",
    "from sklearn.metrics import accuracy_score, precision_recall_fscore_support\n",
    "from sklearn.svm import SVC\n",
    "from sklearn.ensemble import AdaBoostClassifier\n",
    "from sklearn.naive_bayes import BernoulliNB, MultinomialNB\n",
    "from sklearn.naive_bayes import GaussianNB\n",
    "from sklearn.linear_model import SGDClassifier, LogisticRegression\n",
    "from sklearn.neighbors import KNeighborsClassifier\n",
    "from sklearn.model_selection import GridSearchCV\n",
    "import sys\n",
    "import argparse\n",
    "import csv\n",
    "from scipy.sparse import *\n",
    "import pandas as pd\n",
    "import regex \n",
    "from sklearn.base import TransformerMixin\n",
    "from nltk.tokenize import TreebankWordTokenizer\n",
    "from sklearn.feature_extraction.text import TfidfVectorizer, CountVectorizer\n",
    "from nltk.util import ngrams\n",
    "from sklearn.model_selection import StratifiedKFold, train_test_split\n"
   ]
  },
  {
   "cell_type": "code",
   "execution_count": null,
   "metadata": {
    "id": "xUEUpiZiFdWp"
   },
   "outputs": [],
   "source": [
    "from matplotlib import pyplot as plt\n",
    "%matplotlib inline"
   ]
  },
  {
   "cell_type": "code",
   "execution_count": null,
   "metadata": {
    "id": "9pbEdCxaSxO1"
   },
   "outputs": [],
   "source": [
    "import re"
   ]
  },
  {
   "cell_type": "code",
   "execution_count": null,
   "metadata": {
    "colab": {
     "base_uri": "https://localhost:8080/"
    },
    "id": "4BsKIFFjTSdD",
    "outputId": "fc81e6b5-609e-4aa4-c1ba-ad30db1e3d0f"
   },
   "outputs": [
    {
     "name": "stdout",
     "output_type": "stream",
     "text": [
      "Collecting emoji==0.6.0\n",
      "\u001b[?25l  Downloading https://files.pythonhosted.org/packages/ff/1c/1f1457fe52d0b30cbeebfd578483cedb3e3619108d2d5a21380dfecf8ffd/emoji-0.6.0.tar.gz (51kB)\n",
      "\r",
      "\u001b[K     |██████▍                         | 10kB 22.0MB/s eta 0:00:01\r",
      "\u001b[K     |████████████▉                   | 20kB 29.5MB/s eta 0:00:01\r",
      "\u001b[K     |███████████████████▎            | 30kB 21.5MB/s eta 0:00:01\r",
      "\u001b[K     |█████████████████████████▊      | 40kB 25.2MB/s eta 0:00:01\r",
      "\u001b[K     |████████████████████████████████| 51kB 7.4MB/s \n",
      "\u001b[?25hBuilding wheels for collected packages: emoji\n",
      "  Building wheel for emoji (setup.py) ... \u001b[?25l\u001b[?25hdone\n",
      "  Created wheel for emoji: filename=emoji-0.6.0-cp37-none-any.whl size=49716 sha256=834145ab99f008c97bfce286766d1239ac552b522b27bdee7f92ea26a912debc\n",
      "  Stored in directory: /root/.cache/pip/wheels/46/2c/8b/9dcf5216ca68e14e0320e283692dce8ae321cdc01e73e17796\n",
      "Successfully built emoji\n",
      "Installing collected packages: emoji\n",
      "Successfully installed emoji-0.6.0\n"
     ]
    }
   ],
   "source": [
    "!pip install emoji==0.6.0"
   ]
  },
  {
   "cell_type": "code",
   "execution_count": null,
   "metadata": {
    "colab": {
     "base_uri": "https://localhost:8080/"
    },
    "id": "wyX-hIDyhZ7d",
    "outputId": "42a08978-0b82-46f8-8dd5-c84ce5c3c4e7"
   },
   "outputs": [
    {
     "name": "stdout",
     "output_type": "stream",
     "text": [
      "Collecting Arabic-Stopwords\n",
      "\u001b[?25l  Downloading https://files.pythonhosted.org/packages/7c/9e/40ee9b10f98b23b32bb7ca3f229ae78ae4379ebcb03cbb7b9e7399686ad8/Arabic_Stopwords-0.3-py3-none-any.whl (353kB)\n",
      "\u001b[K     |████████████████████████████████| 358kB 18.8MB/s \n",
      "\u001b[?25hCollecting pyarabic>=0.6.2\n",
      "\u001b[?25l  Downloading https://files.pythonhosted.org/packages/7b/e2/46728ec2f6fe14970de5c782346609f0636262c0941228f363710903aaa1/PyArabic-0.6.10.tar.gz (108kB)\n",
      "\u001b[K     |████████████████████████████████| 112kB 54.8MB/s \n",
      "\u001b[?25hBuilding wheels for collected packages: pyarabic\n",
      "  Building wheel for pyarabic (setup.py) ... \u001b[?25l\u001b[?25hdone\n",
      "  Created wheel for pyarabic: filename=PyArabic-0.6.10-cp37-none-any.whl size=113324 sha256=3cb9f54d50736f61ad84b758d6c612c47559762b45ea9fbdeaf5f5ef2500781b\n",
      "  Stored in directory: /root/.cache/pip/wheels/10/b8/f5/b7c1a50e6efb83544844f165a9b134afe7292585465e29b61d\n",
      "Successfully built pyarabic\n",
      "Installing collected packages: pyarabic, Arabic-Stopwords\n",
      "Successfully installed Arabic-Stopwords-0.3 pyarabic-0.6.10\n"
     ]
    }
   ],
   "source": [
    "!pip  install Arabic-Stopwords\n"
   ]
  },
  {
   "cell_type": "code",
   "execution_count": null,
   "metadata": {
    "id": "L4JZGHD5hkGA"
   },
   "outputs": [],
   "source": [
    "import arabicstopwords.arabicstopwords as stp"
   ]
  },
  {
   "cell_type": "code",
   "execution_count": null,
   "metadata": {
    "id": "gCZqqMdtTT0D"
   },
   "outputs": [],
   "source": [
    "import emoji\n"
   ]
  },
  {
   "cell_type": "code",
   "execution_count": null,
   "metadata": {
    "id": "Z3QUk5jYVQlh"
   },
   "outputs": [],
   "source": [
    "from collections import Counter, OrderedDict\n"
   ]
  },
  {
   "cell_type": "code",
   "execution_count": null,
   "metadata": {
    "id": "oCnVjZ2HV2Kc"
   },
   "outputs": [],
   "source": [
    "import math"
   ]
  },
  {
   "cell_type": "code",
   "execution_count": null,
   "metadata": {
    "id": "kTdWwlAoXJHz"
   },
   "outputs": [],
   "source": [
    "import random\n",
    "from random import seed"
   ]
  },
  {
   "cell_type": "code",
   "execution_count": null,
   "metadata": {
    "colab": {
     "base_uri": "https://localhost:8080/"
    },
    "id": "fm34AVoVFRh1",
    "outputId": "25c7981f-28f8-4960-b09b-4f53d62081e3"
   },
   "outputs": [
    {
     "name": "stdout",
     "output_type": "stream",
     "text": [
      "Mounted at /content/drive\n"
     ]
    }
   ],
   "source": [
    "from google.colab import drive\n",
    "drive.mount('/content/drive')\n",
    "import os\n",
    "os.chdir(\"/content/drive/\")"
   ]
  },
  {
   "cell_type": "code",
   "execution_count": null,
   "metadata": {
    "id": "Lq4sJk9UFVYj"
   },
   "outputs": [],
   "source": [
    "train_data=pd.read_csv('')"
   ]
  },
  {
   "cell_type": "code",
   "execution_count": null,
   "metadata": {
    "id": "LY4z4R1Mbfpe"
   },
   "outputs": [],
   "source": [
    "test_data=pd.read_csv('')\n"
   ]
  },
  {
   "cell_type": "code",
   "execution_count": null,
   "metadata": {
    "colab": {
     "base_uri": "https://localhost:8080/",
     "height": 411
    },
    "id": "JinxywYkYTq3",
    "outputId": "415e2e55-d149-4247-b286-cd660cdde1ac"
   },
   "outputs": [
    {
     "data": {
      "text/html": [
       "<div>\n",
       "<style scoped>\n",
       "    .dataframe tbody tr th:only-of-type {\n",
       "        vertical-align: middle;\n",
       "    }\n",
       "\n",
       "    .dataframe tbody tr th {\n",
       "        vertical-align: top;\n",
       "    }\n",
       "\n",
       "    .dataframe thead th {\n",
       "        text-align: right;\n",
       "    }\n",
       "</style>\n",
       "<table border=\"1\" class=\"dataframe\">\n",
       "  <thead>\n",
       "    <tr style=\"text-align: right;\">\n",
       "      <th></th>\n",
       "      <th>tweet</th>\n",
       "      <th>sarcasm</th>\n",
       "      <th>sentiment</th>\n",
       "      <th>dialect</th>\n",
       "    </tr>\n",
       "  </thead>\n",
       "  <tbody>\n",
       "    <tr>\n",
       "      <th>0</th>\n",
       "      <td>\"د. #محمود_العلايلي:أرى أن الفريق #أحمد_شفيق ر...</td>\n",
       "      <td>False</td>\n",
       "      <td>NEU</td>\n",
       "      <td>msa</td>\n",
       "    </tr>\n",
       "    <tr>\n",
       "      <th>1</th>\n",
       "      <td>\"مع فيدرر يا آجا والكبار 😍 https://t.co/hrBeHb...</td>\n",
       "      <td>False</td>\n",
       "      <td>NEU</td>\n",
       "      <td>msa</td>\n",
       "    </tr>\n",
       "    <tr>\n",
       "      <th>2</th>\n",
       "      <td>“الداعون لمبدأ الاختلاط بين الجنسين؛ كالداعين ...</td>\n",
       "      <td>True</td>\n",
       "      <td>NEG</td>\n",
       "      <td>msa</td>\n",
       "    </tr>\n",
       "    <tr>\n",
       "      <th>3</th>\n",
       "      <td>\"@ihe_94 @ya78m @amooo5 @badiajnikhar @Oukasaf...</td>\n",
       "      <td>True</td>\n",
       "      <td>NEG</td>\n",
       "      <td>gulf</td>\n",
       "    </tr>\n",
       "    <tr>\n",
       "      <th>4</th>\n",
       "      <td>\"قل شرق حلب ولا تقل حلب الشرقية ....وقل غرب حل...</td>\n",
       "      <td>False</td>\n",
       "      <td>NEU</td>\n",
       "      <td>msa</td>\n",
       "    </tr>\n",
       "    <tr>\n",
       "      <th>...</th>\n",
       "      <td>...</td>\n",
       "      <td>...</td>\n",
       "      <td>...</td>\n",
       "      <td>...</td>\n",
       "    </tr>\n",
       "    <tr>\n",
       "      <th>95</th>\n",
       "      <td>\"رامى عياش عملى لايك على اغنيته 😍🙌 https://t.c...</td>\n",
       "      <td>False</td>\n",
       "      <td>POS</td>\n",
       "      <td>egypt</td>\n",
       "    </tr>\n",
       "    <tr>\n",
       "      <th>96</th>\n",
       "      <td>\"@140041Saud الرياض حي الواحةتقاطع شارع رفحاء ...</td>\n",
       "      <td>False</td>\n",
       "      <td>NEU</td>\n",
       "      <td>egypt</td>\n",
       "    </tr>\n",
       "    <tr>\n",
       "      <th>97</th>\n",
       "      <td>لو أنت من الناس اللي لم تؤيد أو تسكت عن ظلم أو...</td>\n",
       "      <td>False</td>\n",
       "      <td>NEU</td>\n",
       "      <td>msa</td>\n",
       "    </tr>\n",
       "    <tr>\n",
       "      <th>98</th>\n",
       "      <td>الهجوم المتوقع على كرداسة متى يتوقفون عن قتل ا...</td>\n",
       "      <td>False</td>\n",
       "      <td>NEG</td>\n",
       "      <td>msa</td>\n",
       "    </tr>\n",
       "    <tr>\n",
       "      <th>99</th>\n",
       "      <td>\"جمال الليل في نظرة عيونك ،، ونور البدر مرسوم ...</td>\n",
       "      <td>False</td>\n",
       "      <td>POS</td>\n",
       "      <td>msa</td>\n",
       "    </tr>\n",
       "  </tbody>\n",
       "</table>\n",
       "<p>100 rows × 4 columns</p>\n",
       "</div>"
      ],
      "text/plain": [
       "                                                tweet  ...  dialect\n",
       "0   \"د. #محمود_العلايلي:أرى أن الفريق #أحمد_شفيق ر...  ...      msa\n",
       "1   \"مع فيدرر يا آجا والكبار 😍 https://t.co/hrBeHb...  ...      msa\n",
       "2   “الداعون لمبدأ الاختلاط بين الجنسين؛ كالداعين ...  ...      msa\n",
       "3   \"@ihe_94 @ya78m @amooo5 @badiajnikhar @Oukasaf...  ...     gulf\n",
       "4   \"قل شرق حلب ولا تقل حلب الشرقية ....وقل غرب حل...  ...      msa\n",
       "..                                                ...  ...      ...\n",
       "95  \"رامى عياش عملى لايك على اغنيته 😍🙌 https://t.c...  ...    egypt\n",
       "96  \"@140041Saud الرياض حي الواحةتقاطع شارع رفحاء ...  ...    egypt\n",
       "97  لو أنت من الناس اللي لم تؤيد أو تسكت عن ظلم أو...  ...      msa\n",
       "98  الهجوم المتوقع على كرداسة متى يتوقفون عن قتل ا...  ...      msa\n",
       "99  \"جمال الليل في نظرة عيونك ،، ونور البدر مرسوم ...  ...      msa\n",
       "\n",
       "[100 rows x 4 columns]"
      ]
     },
     "execution_count": 37,
     "metadata": {
      "tags": []
     },
     "output_type": "execute_result"
    }
   ],
   "source": [
    "train_data.head(100)"
   ]
  },
  {
   "cell_type": "code",
   "execution_count": null,
   "metadata": {
    "colab": {
     "base_uri": "https://localhost:8080/"
    },
    "id": "DccISVUBLiOe",
    "outputId": "69c0aaaa-5192-4b18-e8b7-920de52558e0"
   },
   "outputs": [
    {
     "data": {
      "text/plain": [
       "12548"
      ]
     },
     "execution_count": 48,
     "metadata": {
      "tags": []
     },
     "output_type": "execute_result"
    }
   ],
   "source": [
    "len(train_data)"
   ]
  },
  {
   "cell_type": "code",
   "execution_count": null,
   "metadata": {
    "colab": {
     "base_uri": "https://localhost:8080/"
    },
    "id": "yZhdlajiL8H9",
    "outputId": "7684436c-d40f-4698-809c-23091b8e1132"
   },
   "outputs": [
    {
     "data": {
      "text/plain": [
       "3000"
      ]
     },
     "execution_count": 51,
     "metadata": {
      "tags": []
     },
     "output_type": "execute_result"
    }
   ],
   "source": [
    "len(test_data)"
   ]
  },
  {
   "cell_type": "code",
   "execution_count": null,
   "metadata": {
    "colab": {
     "base_uri": "https://localhost:8080/"
    },
    "id": "8BQLbPdJDGNB",
    "outputId": "b7334ab4-b0d1-417b-cdb9-c20a637fc479"
   },
   "outputs": [
    {
     "data": {
      "text/plain": [
       "tweet        0\n",
       "sarcasm      0\n",
       "sentiment    0\n",
       "dialect      0\n",
       "dtype: int64"
      ]
     },
     "execution_count": 15,
     "metadata": {
      "tags": []
     },
     "output_type": "execute_result"
    }
   ],
   "source": [
    "train_data.isna().sum()\n"
   ]
  },
  {
   "cell_type": "code",
   "execution_count": null,
   "metadata": {
    "colab": {
     "base_uri": "https://localhost:8080/",
     "height": 264
    },
    "id": "4_qYc1t6FlnI",
    "outputId": "328cce2f-438d-48fd-c08a-0ea1651201f2"
   },
   "outputs": [
    {
     "data": {
      "image/png": "[encoded data removed]",
      "text/plain": [
       "<Figure size 432x288 with 1 Axes>"
      ]
     },
     "metadata": {
      "tags": []
     },
     "output_type": "display_data"
    }
   ],
   "source": [
    "import matplotlib.pyplot as plt\n",
    "\n",
    "Tasks = [4621,5747,2180]\n",
    "\n",
    "my_labels = 'Negative','Neutral','Positive'\n",
    "plt.pie(Tasks,labels=my_labels,autopct='%1.1f%%')\n",
    "plt.title('Sentiment')\n",
    "plt.axis('equal')\n",
    "plt.show()"
   ]
  },
  {
   "cell_type": "code",
   "execution_count": null,
   "metadata": {
    "colab": {
     "base_uri": "https://localhost:8080/"
    },
    "id": "PzIr9F-8Dj8F",
    "outputId": "1ad38a47-c51f-4690-ea23-3ff552eacea1"
   },
   "outputs": [
    {
     "data": {
      "text/plain": [
       "tweet        4621\n",
       "sarcasm      4621\n",
       "sentiment    4621\n",
       "dialect      4621\n",
       "dtype: int64"
      ]
     },
     "execution_count": 20,
     "metadata": {
      "tags": []
     },
     "output_type": "execute_result"
    }
   ],
   "source": [
    "train_data[(train_data['sentiment']=='NEG') ].count()"
   ]
  },
  {
   "cell_type": "code",
   "execution_count": null,
   "metadata": {
    "colab": {
     "base_uri": "https://localhost:8080/"
    },
    "id": "t31DfL2HD3X-",
    "outputId": "9d5b89fc-45e0-48f7-fb1f-1d50d72f488b"
   },
   "outputs": [
    {
     "data": {
      "text/plain": [
       "tweet        5747\n",
       "sarcasm      5747\n",
       "sentiment    5747\n",
       "dialect      5747\n",
       "dtype: int64"
      ]
     },
     "execution_count": 21,
     "metadata": {
      "tags": []
     },
     "output_type": "execute_result"
    }
   ],
   "source": [
    "train_data[(train_data['sentiment']=='NEU') ].count()"
   ]
  },
  {
   "cell_type": "code",
   "execution_count": null,
   "metadata": {
    "colab": {
     "base_uri": "https://localhost:8080/"
    },
    "id": "3yCqlQkID5Bc",
    "outputId": "53bd6990-a38e-4646-dd27-e3c4aa0859a2"
   },
   "outputs": [
    {
     "data": {
      "text/plain": [
       "tweet        2180\n",
       "sarcasm      2180\n",
       "sentiment    2180\n",
       "dialect      2180\n",
       "dtype: int64"
      ]
     },
     "execution_count": 22,
     "metadata": {
      "tags": []
     },
     "output_type": "execute_result"
    }
   ],
   "source": [
    "train_data[(train_data['sentiment']=='POS') ].count()"
   ]
  },
  {
   "cell_type": "code",
   "execution_count": null,
   "metadata": {
    "id": "GmrqKOs_Molh"
   },
   "outputs": [],
   "source": [
    "NEG_DF=train_data[(train_data['sentiment']=='NEG') ]"
   ]
  },
  {
   "cell_type": "code",
   "execution_count": null,
   "metadata": {
    "colab": {
     "base_uri": "https://localhost:8080/"
    },
    "id": "VL9bS2fwM7FH",
    "outputId": "203a3f71-aadc-48bc-9144-b974eb307e38"
   },
   "outputs": [
    {
     "data": {
      "text/plain": [
       "tweet        2671\n",
       "sarcasm      2671\n",
       "sentiment    2671\n",
       "dialect      2671\n",
       "dtype: int64"
      ]
     },
     "execution_count": 55,
     "metadata": {
      "tags": []
     },
     "output_type": "execute_result"
    }
   ],
   "source": [
    "NEG_DF[(NEG_DF['dialect']=='msa') ].count()"
   ]
  },
  {
   "cell_type": "code",
   "execution_count": null,
   "metadata": {
    "colab": {
     "base_uri": "https://localhost:8080/"
    },
    "id": "NGZUJuMWM9gV",
    "outputId": "96d64bf1-2ba9-46d5-9ddf-1f9c20260aa2"
   },
   "outputs": [
    {
     "data": {
      "text/plain": [
       "tweet        1376\n",
       "sarcasm      1376\n",
       "sentiment    1376\n",
       "dialect      1376\n",
       "dtype: int64"
      ]
     },
     "execution_count": 56,
     "metadata": {
      "tags": []
     },
     "output_type": "execute_result"
    }
   ],
   "source": [
    "NEG_DF[(NEG_DF['dialect']=='egypt') ].count()"
   ]
  },
  {
   "cell_type": "code",
   "execution_count": null,
   "metadata": {
    "colab": {
     "base_uri": "https://localhost:8080/"
    },
    "id": "voF98SKNM_e1",
    "outputId": "f97d9657-c031-4465-d28c-c50333933158"
   },
   "outputs": [
    {
     "data": {
      "text/plain": [
       "tweet        264\n",
       "sarcasm      264\n",
       "sentiment    264\n",
       "dialect      264\n",
       "dtype: int64"
      ]
     },
     "execution_count": 57,
     "metadata": {
      "tags": []
     },
     "output_type": "execute_result"
    }
   ],
   "source": [
    "NEG_DF[(NEG_DF['dialect']=='gulf') ].count()"
   ]
  },
  {
   "cell_type": "code",
   "execution_count": null,
   "metadata": {
    "colab": {
     "base_uri": "https://localhost:8080/"
    },
    "id": "JI0h2COYNA98",
    "outputId": "033b8580-92c7-44c2-fb3d-76e697b61708"
   },
   "outputs": [
    {
     "data": {
      "text/plain": [
       "tweet        285\n",
       "sarcasm      285\n",
       "sentiment    285\n",
       "dialect      285\n",
       "dtype: int64"
      ]
     },
     "execution_count": 58,
     "metadata": {
      "tags": []
     },
     "output_type": "execute_result"
    }
   ],
   "source": [
    "NEG_DF[(NEG_DF['dialect']=='levant') ].count()"
   ]
  },
  {
   "cell_type": "code",
   "execution_count": null,
   "metadata": {
    "colab": {
     "base_uri": "https://localhost:8080/"
    },
    "id": "KZto_IeyNDM8",
    "outputId": "6d4257db-0dba-4a3b-8899-55c86d37f70b"
   },
   "outputs": [
    {
     "data": {
      "text/plain": [
       "tweet        25\n",
       "sarcasm      25\n",
       "sentiment    25\n",
       "dialect      25\n",
       "dtype: int64"
      ]
     },
     "execution_count": 59,
     "metadata": {
      "tags": []
     },
     "output_type": "execute_result"
    }
   ],
   "source": [
    "NEG_DF[(NEG_DF['dialect']=='magreb') ].count()"
   ]
  },
  {
   "cell_type": "code",
   "execution_count": null,
   "metadata": {
    "id": "89jJudSrMtrp"
   },
   "outputs": [],
   "source": [
    "NEU_DF=train_data[(train_data['sentiment']=='NEU') ]"
   ]
  },
  {
   "cell_type": "code",
   "execution_count": null,
   "metadata": {
    "colab": {
     "base_uri": "https://localhost:8080/"
    },
    "id": "4okpx6UDNHj9",
    "outputId": "3095f066-3c72-4926-808c-a97dd1a43050"
   },
   "outputs": [
    {
     "data": {
      "text/plain": [
       "tweet        12\n",
       "sarcasm      12\n",
       "sentiment    12\n",
       "dialect      12\n",
       "dtype: int64"
      ]
     },
     "execution_count": 60,
     "metadata": {
      "tags": []
     },
     "output_type": "execute_result"
    }
   ],
   "source": [
    "NEU_DF[(NEU_DF['dialect']=='magreb') ].count()"
   ]
  },
  {
   "cell_type": "code",
   "execution_count": null,
   "metadata": {
    "colab": {
     "base_uri": "https://localhost:8080/"
    },
    "id": "1X5YR_TYNJuL",
    "outputId": "acec02f0-e444-4000-cf26-23261cd21036"
   },
   "outputs": [
    {
     "data": {
      "text/plain": [
       "tweet        197\n",
       "sarcasm      197\n",
       "sentiment    197\n",
       "dialect      197\n",
       "dtype: int64"
      ]
     },
     "execution_count": 61,
     "metadata": {
      "tags": []
     },
     "output_type": "execute_result"
    }
   ],
   "source": [
    "NEU_DF[(NEU_DF['dialect']=='levant') ].count()"
   ]
  },
  {
   "cell_type": "code",
   "execution_count": null,
   "metadata": {
    "colab": {
     "base_uri": "https://localhost:8080/"
    },
    "id": "hY6bJahfNKEo",
    "outputId": "534316d1-0a79-4738-910a-5adeebc55c81"
   },
   "outputs": [
    {
     "data": {
      "text/plain": [
       "tweet        793\n",
       "sarcasm      793\n",
       "sentiment    793\n",
       "dialect      793\n",
       "dtype: int64"
      ]
     },
     "execution_count": 62,
     "metadata": {
      "tags": []
     },
     "output_type": "execute_result"
    }
   ],
   "source": [
    "NEU_DF[(NEU_DF['dialect']=='egypt') ].count()"
   ]
  },
  {
   "cell_type": "code",
   "execution_count": null,
   "metadata": {
    "colab": {
     "base_uri": "https://localhost:8080/"
    },
    "id": "Qi05ZnGXNKh5",
    "outputId": "7c62a2d3-a9f1-4b80-ee90-39a68b969685"
   },
   "outputs": [
    {
     "data": {
      "text/plain": [
       "tweet        259\n",
       "sarcasm      259\n",
       "sentiment    259\n",
       "dialect      259\n",
       "dtype: int64"
      ]
     },
     "execution_count": 63,
     "metadata": {
      "tags": []
     },
     "output_type": "execute_result"
    }
   ],
   "source": [
    "NEU_DF[(NEU_DF['dialect']=='gulf') ].count()"
   ]
  },
  {
   "cell_type": "code",
   "execution_count": null,
   "metadata": {
    "colab": {
     "base_uri": "https://localhost:8080/"
    },
    "id": "w3a_yZZxNLSL",
    "outputId": "26be28a8-711d-469d-e7f1-a2b324aa05ce"
   },
   "outputs": [
    {
     "data": {
      "text/plain": [
       "tweet        4486\n",
       "sarcasm      4486\n",
       "sentiment    4486\n",
       "dialect      4486\n",
       "dtype: int64"
      ]
     },
     "execution_count": 64,
     "metadata": {
      "tags": []
     },
     "output_type": "execute_result"
    }
   ],
   "source": [
    "NEU_DF[(NEU_DF['dialect']=='msa') ].count()"
   ]
  },
  {
   "cell_type": "code",
   "execution_count": null,
   "metadata": {
    "id": "CB4sPPoiMyqD"
   },
   "outputs": [],
   "source": [
    "POS_DF=train_data[(train_data['sentiment']=='POS') ]"
   ]
  },
  {
   "cell_type": "code",
   "execution_count": null,
   "metadata": {
    "colab": {
     "base_uri": "https://localhost:8080/"
    },
    "id": "JrjHyIk4NSe2",
    "outputId": "7ba584ab-02f9-4db0-cf62-428efc58c6a2"
   },
   "outputs": [
    {
     "data": {
      "text/plain": [
       "tweet        1405\n",
       "sarcasm      1405\n",
       "sentiment    1405\n",
       "dialect      1405\n",
       "dtype: int64"
      ]
     },
     "execution_count": 65,
     "metadata": {
      "tags": []
     },
     "output_type": "execute_result"
    }
   ],
   "source": [
    "POS_DF[(POS_DF['dialect']=='msa') ].count()"
   ]
  },
  {
   "cell_type": "code",
   "execution_count": null,
   "metadata": {
    "colab": {
     "base_uri": "https://localhost:8080/"
    },
    "id": "qkSeWZHeNUg4",
    "outputId": "d32a13dc-0d3e-4620-e1f7-e571ff23aded"
   },
   "outputs": [
    {
     "data": {
      "text/plain": [
       "tweet        142\n",
       "sarcasm      142\n",
       "sentiment    142\n",
       "dialect      142\n",
       "dtype: int64"
      ]
     },
     "execution_count": 66,
     "metadata": {
      "tags": []
     },
     "output_type": "execute_result"
    }
   ],
   "source": [
    "POS_DF[(POS_DF['dialect']=='levant') ].count()"
   ]
  },
  {
   "cell_type": "code",
   "execution_count": null,
   "metadata": {
    "colab": {
     "base_uri": "https://localhost:8080/"
    },
    "id": "RgsgRUa2NVCs",
    "outputId": "c09082ed-3acc-438d-c901-ecaaf9694760"
   },
   "outputs": [
    {
     "data": {
      "text/plain": [
       "tweet        506\n",
       "sarcasm      506\n",
       "sentiment    506\n",
       "dialect      506\n",
       "dtype: int64"
      ]
     },
     "execution_count": 67,
     "metadata": {
      "tags": []
     },
     "output_type": "execute_result"
    }
   ],
   "source": [
    "POS_DF[(POS_DF['dialect']=='egypt') ].count()"
   ]
  },
  {
   "cell_type": "code",
   "execution_count": null,
   "metadata": {
    "colab": {
     "base_uri": "https://localhost:8080/"
    },
    "id": "KNLmrJNoNVi6",
    "outputId": "3bfe97ee-8779-4f12-cc3d-fb3d129673ad"
   },
   "outputs": [
    {
     "data": {
      "text/plain": [
       "tweet        121\n",
       "sarcasm      121\n",
       "sentiment    121\n",
       "dialect      121\n",
       "dtype: int64"
      ]
     },
     "execution_count": 68,
     "metadata": {
      "tags": []
     },
     "output_type": "execute_result"
    }
   ],
   "source": [
    "POS_DF[(POS_DF['dialect']=='gulf') ].count()"
   ]
  },
  {
   "cell_type": "code",
   "execution_count": null,
   "metadata": {
    "colab": {
     "base_uri": "https://localhost:8080/"
    },
    "id": "UCnq4BVFNV86",
    "outputId": "a5376ee2-bc27-4225-a4f5-daf823be2345"
   },
   "outputs": [
    {
     "data": {
      "text/plain": [
       "tweet        6\n",
       "sarcasm      6\n",
       "sentiment    6\n",
       "dialect      6\n",
       "dtype: int64"
      ]
     },
     "execution_count": 69,
     "metadata": {
      "tags": []
     },
     "output_type": "execute_result"
    }
   ],
   "source": [
    "POS_DF[(POS_DF['dialect']=='magreb') ].count()"
   ]
  },
  {
   "cell_type": "code",
   "execution_count": null,
   "metadata": {
    "colab": {
     "base_uri": "https://localhost:8080/",
     "height": 264
    },
    "id": "Jk__WhuVF8eO",
    "outputId": "9151b3bc-26e4-4258-f9aa-a6a45e70ce98"
   },
   "outputs": [
    {
     "data": {
      "image/png": "[encoded data removed]",
      "text/plain": [
       "<Figure size 432x288 with 1 Axes>"
      ]
     },
     "metadata": {
      "tags": []
     },
     "output_type": "display_data"
    }
   ],
   "source": [
    "Tasks = [8562,644,2675,624,43]\n",
    "\n",
    "my_labels = 'msa','gulf','egypt','levant','magreb'\n",
    "plt.pie(Tasks,labels=my_labels,autopct='%1.1f%%')\n",
    "plt.title('Dialect')\n",
    "plt.axis('equal')\n",
    "plt.show()"
   ]
  },
  {
   "cell_type": "code",
   "execution_count": null,
   "metadata": {
    "colab": {
     "base_uri": "https://localhost:8080/"
    },
    "id": "qQjxJerQENu2",
    "outputId": "9271118c-cb64-438b-c632-48e910164830"
   },
   "outputs": [
    {
     "data": {
      "text/plain": [
       "tweet        8562\n",
       "sarcasm      8562\n",
       "sentiment    8562\n",
       "dialect      8562\n",
       "dtype: int64"
      ]
     },
     "execution_count": 29,
     "metadata": {
      "tags": []
     },
     "output_type": "execute_result"
    }
   ],
   "source": [
    "train_data[(train_data['dialect']=='msa') ].count()"
   ]
  },
  {
   "cell_type": "code",
   "execution_count": null,
   "metadata": {
    "colab": {
     "base_uri": "https://localhost:8080/"
    },
    "id": "pawicxrxERcQ",
    "outputId": "eefbe859-78cd-46b6-85b9-c0612a1618db"
   },
   "outputs": [
    {
     "data": {
      "text/plain": [
       "tweet        644\n",
       "sarcasm      644\n",
       "sentiment    644\n",
       "dialect      644\n",
       "dtype: int64"
      ]
     },
     "execution_count": 31,
     "metadata": {
      "tags": []
     },
     "output_type": "execute_result"
    }
   ],
   "source": [
    "train_data[(train_data['dialect']=='gulf') ].count()"
   ]
  },
  {
   "cell_type": "code",
   "execution_count": null,
   "metadata": {
    "colab": {
     "base_uri": "https://localhost:8080/"
    },
    "id": "v5eSR14uEfFj",
    "outputId": "c37b8278-70a7-4ad0-f650-eabc90a617ff"
   },
   "outputs": [
    {
     "data": {
      "text/plain": [
       "tweet        2675\n",
       "sarcasm      2675\n",
       "sentiment    2675\n",
       "dialect      2675\n",
       "dtype: int64"
      ]
     },
     "execution_count": 33,
     "metadata": {
      "tags": []
     },
     "output_type": "execute_result"
    }
   ],
   "source": [
    "train_data[(train_data['dialect']=='egypt') ].count()"
   ]
  },
  {
   "cell_type": "code",
   "execution_count": null,
   "metadata": {
    "colab": {
     "base_uri": "https://localhost:8080/"
    },
    "id": "OLN7CjlLEfZb",
    "outputId": "0adb4f91-83cd-4b04-984b-e93fe5e3cb42"
   },
   "outputs": [
    {
     "data": {
      "text/plain": [
       "tweet        624\n",
       "sarcasm      624\n",
       "sentiment    624\n",
       "dialect      624\n",
       "dtype: int64"
      ]
     },
     "execution_count": 35,
     "metadata": {
      "tags": []
     },
     "output_type": "execute_result"
    }
   ],
   "source": [
    "train_data[(train_data['dialect']=='levant') ].count()"
   ]
  },
  {
   "cell_type": "code",
   "execution_count": null,
   "metadata": {
    "colab": {
     "base_uri": "https://localhost:8080/"
    },
    "id": "Y8cNxqOcEfuh",
    "outputId": "72ce3c05-9215-49d7-f434-2e8639ed6c27"
   },
   "outputs": [
    {
     "data": {
      "text/plain": [
       "tweet        43\n",
       "sarcasm      43\n",
       "sentiment    43\n",
       "dialect      43\n",
       "dtype: int64"
      ]
     },
     "execution_count": 40,
     "metadata": {
      "tags": []
     },
     "output_type": "execute_result"
    }
   ],
   "source": [
    "train_data[(train_data['dialect']=='magreb') ].count()"
   ]
  },
  {
   "cell_type": "code",
   "execution_count": null,
   "metadata": {
    "colab": {
     "base_uri": "https://localhost:8080/",
     "height": 264
    },
    "id": "w0iM9sccGRbt",
    "outputId": "50996a91-e418-44e1-b1d7-a0c52b186f7e"
   },
   "outputs": [
    {
     "data": {
      "image/png": "[encoded data removed]",
      "text/plain": [
       "<Figure size 432x288 with 1 Axes>"
      ]
     },
     "metadata": {
      "tags": []
     },
     "output_type": "display_data"
    }
   ],
   "source": [
    "Tasks = [2168,10380]\n",
    "my_labels = 'True','False'\n",
    "plt.pie(Tasks,labels=my_labels,autopct='%1.1f%%')\n",
    "plt.title('Sarcasm')\n",
    "plt.axis('equal')\n",
    "plt.show()"
   ]
  },
  {
   "cell_type": "code",
   "execution_count": null,
   "metadata": {
    "colab": {
     "base_uri": "https://localhost:8080/"
    },
    "id": "pJ_O4Py7D7GS",
    "outputId": "7345c528-1d88-4d03-b4f6-5623ab4ded6c"
   },
   "outputs": [
    {
     "data": {
      "text/plain": [
       "tweet        2168\n",
       "sarcasm      2168\n",
       "sentiment    2168\n",
       "dialect      2168\n",
       "dtype: int64"
      ]
     },
     "execution_count": 27,
     "metadata": {
      "tags": []
     },
     "output_type": "execute_result"
    }
   ],
   "source": [
    "train_data[(train_data['sarcasm']==True) ].count()"
   ]
  },
  {
   "cell_type": "code",
   "execution_count": null,
   "metadata": {
    "colab": {
     "base_uri": "https://localhost:8080/"
    },
    "id": "H3dqSLlzEEQJ",
    "outputId": "e025d570-f23d-4848-cc95-09233bb961d4"
   },
   "outputs": [
    {
     "data": {
      "text/plain": [
       "tweet        10380\n",
       "sarcasm      10380\n",
       "sentiment    10380\n",
       "dialect      10380\n",
       "dtype: int64"
      ]
     },
     "execution_count": 28,
     "metadata": {
      "tags": []
     },
     "output_type": "execute_result"
    }
   ],
   "source": [
    "train_data[(train_data['sarcasm']==False) ].count()"
   ]
  },
  {
   "cell_type": "code",
   "execution_count": null,
   "metadata": {
    "id": "qymI13k5QPk9"
   },
   "outputs": [],
   "source": [
    "tr_df=train_data[(train_data['sarcasm']==True) ]"
   ]
  },
  {
   "cell_type": "code",
   "execution_count": null,
   "metadata": {
    "colab": {
     "base_uri": "https://localhost:8080/"
    },
    "id": "JZuBpLzcQa3U",
    "outputId": "39218c89-cdd6-4ca0-f87a-227b577e416d"
   },
   "outputs": [
    {
     "data": {
      "text/plain": [
       "tweet        157\n",
       "sarcasm      157\n",
       "sentiment    157\n",
       "dialect      157\n",
       "dtype: int64"
      ]
     },
     "execution_count": 72,
     "metadata": {
      "tags": []
     },
     "output_type": "execute_result"
    }
   ],
   "source": [
    "tr_df[(tr_df['dialect']=='gulf') ].count()"
   ]
  },
  {
   "cell_type": "code",
   "execution_count": null,
   "metadata": {
    "colab": {
     "base_uri": "https://localhost:8080/"
    },
    "id": "VIQWLySVQdV7",
    "outputId": "fc3b13a6-2ae9-4c4a-c24d-18d970b5f5d5"
   },
   "outputs": [
    {
     "data": {
      "text/plain": [
       "tweet        928\n",
       "sarcasm      928\n",
       "sentiment    928\n",
       "dialect      928\n",
       "dtype: int64"
      ]
     },
     "execution_count": 73,
     "metadata": {
      "tags": []
     },
     "output_type": "execute_result"
    }
   ],
   "source": [
    "tr_df[(tr_df['dialect']=='msa') ].count()"
   ]
  },
  {
   "cell_type": "code",
   "execution_count": null,
   "metadata": {
    "colab": {
     "base_uri": "https://localhost:8080/"
    },
    "id": "wLa83Mz5Qdnb",
    "outputId": "5e96ae54-1076-4a7b-f1ac-1d4826c60946"
   },
   "outputs": [
    {
     "data": {
      "text/plain": [
       "tweet        930\n",
       "sarcasm      930\n",
       "sentiment    930\n",
       "dialect      930\n",
       "dtype: int64"
      ]
     },
     "execution_count": 74,
     "metadata": {
      "tags": []
     },
     "output_type": "execute_result"
    }
   ],
   "source": [
    "tr_df[(tr_df['dialect']=='egypt') ].count()"
   ]
  },
  {
   "cell_type": "code",
   "execution_count": null,
   "metadata": {
    "colab": {
     "base_uri": "https://localhost:8080/"
    },
    "id": "aRGbLDFgQd9h",
    "outputId": "bec78764-967e-4530-a8b6-2211af1c7619"
   },
   "outputs": [
    {
     "data": {
      "text/plain": [
       "tweet        138\n",
       "sarcasm      138\n",
       "sentiment    138\n",
       "dialect      138\n",
       "dtype: int64"
      ]
     },
     "execution_count": 75,
     "metadata": {
      "tags": []
     },
     "output_type": "execute_result"
    }
   ],
   "source": [
    "tr_df[(tr_df['dialect']=='levant') ].count()"
   ]
  },
  {
   "cell_type": "code",
   "execution_count": null,
   "metadata": {
    "colab": {
     "base_uri": "https://localhost:8080/"
    },
    "id": "R2Qlq0dDQeQ6",
    "outputId": "5aac6a62-e597-40ef-c492-c03d98963a58"
   },
   "outputs": [
    {
     "data": {
      "text/plain": [
       "tweet        15\n",
       "sarcasm      15\n",
       "sentiment    15\n",
       "dialect      15\n",
       "dtype: int64"
      ]
     },
     "execution_count": 76,
     "metadata": {
      "tags": []
     },
     "output_type": "execute_result"
    }
   ],
   "source": [
    "tr_df[(tr_df['dialect']=='magreb') ].count()"
   ]
  },
  {
   "cell_type": "code",
   "execution_count": null,
   "metadata": {
    "id": "jUELjJlxQVW3"
   },
   "outputs": [],
   "source": [
    "fl_df=train_data[(train_data['sarcasm']==False) ]"
   ]
  },
  {
   "cell_type": "code",
   "execution_count": null,
   "metadata": {
    "colab": {
     "base_uri": "https://localhost:8080/"
    },
    "id": "rmPNL32AQj7T",
    "outputId": "94728fa9-f278-47d9-de4c-09f4c8b4b315"
   },
   "outputs": [
    {
     "data": {
      "text/plain": [
       "tweet        487\n",
       "sarcasm      487\n",
       "sentiment    487\n",
       "dialect      487\n",
       "dtype: int64"
      ]
     },
     "execution_count": 77,
     "metadata": {
      "tags": []
     },
     "output_type": "execute_result"
    }
   ],
   "source": [
    "fl_df[(fl_df['dialect']=='gulf') ].count()"
   ]
  },
  {
   "cell_type": "code",
   "execution_count": null,
   "metadata": {
    "colab": {
     "base_uri": "https://localhost:8080/"
    },
    "id": "jiFcQUICQmC-",
    "outputId": "b488f551-4640-4411-8c94-525d6538a2c3"
   },
   "outputs": [
    {
     "data": {
      "text/plain": [
       "tweet        7634\n",
       "sarcasm      7634\n",
       "sentiment    7634\n",
       "dialect      7634\n",
       "dtype: int64"
      ]
     },
     "execution_count": 78,
     "metadata": {
      "tags": []
     },
     "output_type": "execute_result"
    }
   ],
   "source": [
    "fl_df[(fl_df['dialect']=='msa') ].count()"
   ]
  },
  {
   "cell_type": "code",
   "execution_count": null,
   "metadata": {
    "colab": {
     "base_uri": "https://localhost:8080/"
    },
    "id": "IZFOBAQsQmn8",
    "outputId": "f0949d18-9bc6-402e-8773-8498846f98f4"
   },
   "outputs": [
    {
     "data": {
      "text/plain": [
       "tweet        1745\n",
       "sarcasm      1745\n",
       "sentiment    1745\n",
       "dialect      1745\n",
       "dtype: int64"
      ]
     },
     "execution_count": 79,
     "metadata": {
      "tags": []
     },
     "output_type": "execute_result"
    }
   ],
   "source": [
    "fl_df[(fl_df['dialect']=='egypt') ].count()"
   ]
  },
  {
   "cell_type": "code",
   "execution_count": null,
   "metadata": {
    "colab": {
     "base_uri": "https://localhost:8080/"
    },
    "id": "QGsCFmnuQoCa",
    "outputId": "1e40f98e-df94-44d8-93fa-29c5a462b221"
   },
   "outputs": [
    {
     "data": {
      "text/plain": [
       "tweet        486\n",
       "sarcasm      486\n",
       "sentiment    486\n",
       "dialect      486\n",
       "dtype: int64"
      ]
     },
     "execution_count": 80,
     "metadata": {
      "tags": []
     },
     "output_type": "execute_result"
    }
   ],
   "source": [
    "fl_df[(fl_df['dialect']=='levant') ].count()"
   ]
  },
  {
   "cell_type": "code",
   "execution_count": null,
   "metadata": {
    "colab": {
     "base_uri": "https://localhost:8080/"
    },
    "id": "I8sEZ-5bQo68",
    "outputId": "db0a8d1a-6629-4239-ac15-5435ae7cb59c"
   },
   "outputs": [
    {
     "data": {
      "text/plain": [
       "tweet        28\n",
       "sarcasm      28\n",
       "sentiment    28\n",
       "dialect      28\n",
       "dtype: int64"
      ]
     },
     "execution_count": 81,
     "metadata": {
      "tags": []
     },
     "output_type": "execute_result"
    }
   ],
   "source": [
    "fl_df[(fl_df['dialect']=='magreb') ].count()"
   ]
  },
  {
   "cell_type": "code",
   "execution_count": null,
   "metadata": {
    "colab": {
     "base_uri": "https://localhost:8080/"
    },
    "id": "ynvVfI2DEKDC",
    "outputId": "5b02c8d2-b83e-4399-d1f4-fa8aa4828171"
   },
   "outputs": [
    {
     "data": {
      "text/plain": [
       "array(['msa', 'gulf', 'egypt', 'levant', 'magreb'], dtype=object)"
      ]
     },
     "execution_count": 39,
     "metadata": {
      "tags": []
     },
     "output_type": "execute_result"
    }
   ],
   "source": [
    "train_data.dialect.unique()\n"
   ]
  }
 ],
 "metadata": {
  "accelerator": "GPU",
  "colab": {
   "name": "Sarcasm-Detection-DL-approach.ipynb",
   "provenance": []
  },
  "kernelspec": {
   "display_name": "Python 3",
   "language": "python",
   "name": "python3"
  },
  "language_info": {
   "codemirror_mode": {
    "name": "ipython",
    "version": 3
   },
   "file_extension": ".py",
   "mimetype": "text/x-python",
   "name": "python",
   "nbconvert_exporter": "python",
   "pygments_lexer": "ipython3",
   "version": "3.7.6"
  }
 },
 "nbformat": 4,
 "nbformat_minor": 1
}
